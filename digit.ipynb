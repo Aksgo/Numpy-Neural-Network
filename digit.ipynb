{
 "cells": [
  {
   "cell_type": "code",
   "execution_count": 1,
   "id": "130262e6",
   "metadata": {},
   "outputs": [],
   "source": [
    "import numpy as np\n",
    "import math\n",
    "import random"
   ]
  },
  {
   "cell_type": "code",
   "execution_count": 6,
   "id": "b8758602",
   "metadata": {},
   "outputs": [],
   "source": [
    "class Network:\n",
    "    #initiating our network\n",
    "    def __init__(self, sizes):\n",
    "        self.num_layers = len(sizes)\n",
    "        self.sizes = sizes\n",
    "        self.biases = [ np.random.randn(y,1) for y in sizes[1:] ]\n",
    "        self.weights = [ np.random.randn(y,x) for y,x in zip(sizes[1:],sizes[:-1])]\n",
    "        \n",
    "    def forward(self,a):\n",
    "        #return w.x + b that is apply the weights and biases\n",
    "        for w,b in zip(self.weights, self.biases):\n",
    "            a = sigmoid(np.dot(w,a) + b)\n",
    "    \n",
    "    '''\n",
    "        the training data is a list of tuples (x,y) with inputs and outputs\n",
    "    '''\n",
    "    \n",
    "    def StochasticGradientDesecent(self, training_data, epochs, batch_size, learning_rate, test_data=None ):\n",
    "        if test_data:\n",
    "            n_test = len(test_data)\n",
    "        n = len(training_data)\n",
    "        #here we have used xrange to because it generates number one by one instead of\n",
    "        #range method which stores a whole list of numbers then iterate\n",
    "        for j in xrange(epochs):\n",
    "            random.shuffle(training_data)\n",
    "            mini_batches = [\n",
    "                training_data[ind:ind+batch_size] for ind in xrange(0,n,batch_size)\n",
    "            ]\n",
    "            for mini_batch in mini_batches:\n",
    "                #the function below will update the wieghts and biases based on mini batch and the learning rate\n",
    "                self.updateParameters(mini_batch, learning_rate)\n",
    "            if test_data:\n",
    "                #it will evaluate the function for each epoch - slowing down the training\n",
    "                pass\n",
    "                #currently not implmenting\n",
    "            else:\n",
    "                print(f\"Epoch {j} completed\")\n",
    "    \n",
    "    def updateParameters(self, batch, eta):\n",
    "        #nabla represents the gradient operator\n",
    "        nabla_b = [np.zeros(b.shape) for b in self.biases]\n",
    "        nabla_w = [np.zeroes(w.shape) for w in self.weights]\n",
    "        for x,y in batch:\n",
    "            #finding derivative for each training example in the batch\n",
    "            delta_b = self.backprop(x,y)\n",
    "            delta_w = self.backprop(x,y)\n",
    "            #adding all the derivative first to take the average derivative later\n",
    "            nalba_b = [nb + b for nb,b in zip(nabla_b, delta_b)]\n",
    "            nalba_w = [nw + w for nw,w in zip(nabla_w, delta_w)]\n",
    "        #updating all the weights\n",
    "        self.weights = [w-(nabla_w/len(batch))*eta for w in self.weights]\n",
    "        #updating all the biases\n",
    "        self.biases = [b-(nabla_b/len(batch))*eta for b in self.biases]\n",
    "    \n",
    "def sigmoid(z):\n",
    "    return 1.0/(1.0 + np.exp(-z))\n",
    "def sigmoid_prime(z):\n",
    "    return sigmoid(z)*(1-sigmoid(z))"
   ]
  },
  {
   "cell_type": "code",
   "execution_count": null,
   "id": "6d2ca6aa",
   "metadata": {},
   "outputs": [],
   "source": []
  }
 ],
 "metadata": {
  "kernelspec": {
   "display_name": "Python 3 (ipykernel)",
   "language": "python",
   "name": "python3"
  },
  "language_info": {
   "codemirror_mode": {
    "name": "ipython",
    "version": 3
   },
   "file_extension": ".py",
   "mimetype": "text/x-python",
   "name": "python",
   "nbconvert_exporter": "python",
   "pygments_lexer": "ipython3",
   "version": "3.11.5"
  }
 },
 "nbformat": 4,
 "nbformat_minor": 5
}
