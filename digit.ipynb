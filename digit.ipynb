{
 "cells": [
  {
   "cell_type": "code",
   "execution_count": 1,
   "id": "130262e6",
   "metadata": {},
   "outputs": [],
   "source": [
    "import numpy as np\n",
    "import math\n",
    "import random"
   ]
  },
  {
   "cell_type": "code",
   "execution_count": 2,
   "id": "b8758602",
   "metadata": {},
   "outputs": [],
   "source": [
    "class Network:\n",
    "    #initiating our network\n",
    "    def __init__(self, sizes):\n",
    "        self.num_layers = len(sizes)\n",
    "        self.sizes = sizes\n",
    "        self.biases = [ np.random.randn(y,1) for y in sizes[1:] ]\n",
    "        self.weights = [ np.random.randn(y,x) for x,y in zip(sizes[:-1],sizes[1:])]\n",
    "        \n",
    "    def feedforward(self,a):\n",
    "        #return w.x + b that is apply the weights and biases\n",
    "        for b,w in zip(self.biases, self.weights):\n",
    "            a = sigmoid(np.dot(w,a) + b)\n",
    "        return a\n",
    "    \n",
    "    '''\n",
    "        the training data is a list of tuples (x,y) with inputs and outputs\n",
    "    '''\n",
    "    \n",
    "    def SGD(self, training_data, epochs, batch_size, learning_rate, test_data=None ):\n",
    "        if test_data:\n",
    "            test_data=list(test_data)\n",
    "            n_test = len(test_data)\n",
    "        training_data = list(training_data)\n",
    "        n = len(training_data)\n",
    "        #here we have used xrange to because it generates number one by one instead of\n",
    "        #range method which stores a whole list of numbers then iterate\n",
    "        #xrange not supported in python 3\n",
    "        for j in range(epochs):\n",
    "            random.shuffle(training_data)\n",
    "            mini_batches = [\n",
    "                training_data[ind:ind+batch_size] for ind in range(0,n,batch_size)\n",
    "            ]\n",
    "            #####\n",
    "            if(j%4==0):\n",
    "                learning_rate = learning_rate/2;\n",
    "            \n",
    "            #####\n",
    "            for mini_batch in mini_batches:\n",
    "                #the function below will update the wieghts and biases based on mini batch and the learning rate\n",
    "                self.updateParameters(mini_batch, learning_rate)\n",
    "            if test_data:\n",
    "                #it will evaluate the function for each epoch - slowing down the training\n",
    "                print(f\"epoch {j} : {self.evaluate(test_data)} / {n_test}\")\n",
    "            else:\n",
    "                print(f\"Epoch {j} completed\")\n",
    "    \n",
    "    def updateParameters(self, batch, eta):\n",
    "        #nabla represents the gradient operator\n",
    "        nabla_b = [np.zeros(b.shape) for b in self.biases]\n",
    "        nabla_w = [np.zeros(w.shape) for w in self.weights]\n",
    "        for x,y in batch:\n",
    "            #finding derivative for each training example in the batch\n",
    "            delta_b, delta_w = self.backprop(x,y)\n",
    "            #adding all the derivative first to take the average derivative later\n",
    "            nabla_b = [(nb + b) for nb,b in zip(nabla_b, delta_b)]\n",
    "            nabla_w = [(nw + w) for nw,w in zip(nabla_w, delta_w)]\n",
    "        #updating all the weights\n",
    "        self.weights = [w-(eta/len(batch))*nw for w,nw in zip(self.weights,nabla_w)]\n",
    "        #updating all the biases\n",
    "        self.biases = [b-(eta/len(batch))*nb for b,nb in zip(self.biases, nabla_b)]\n",
    "    \n",
    "    ''' !!!!!!!!!!   to do  !!!!!!!!!!!!!!!!'''\n",
    "    def backprop(self, x, y):\n",
    "        \"\"\"Return a tuple ``(nabla_b, nabla_w)`` representing the\n",
    "        gradient for the cost function C_x.  ``nabla_b`` and\n",
    "        ``nabla_w`` are layer-by-layer lists of numpy arrays, similar\n",
    "        to ``self.biases`` and ``self.weights``.\"\"\"\n",
    "        nabla_b = [np.zeros(b.shape) for b in self.biases]\n",
    "        nabla_w = [np.zeros(w.shape) for w in self.weights]\n",
    "        # feedforward\n",
    "        activation = x\n",
    "        activations = [x] # list to store all the activations, layer by layer\n",
    "        zs = [] # list to store all the z vectors, layer by layer\n",
    "        for b, w in zip(self.biases, self.weights):\n",
    "            z = np.dot(w, activation)+b\n",
    "            zs.append(z)\n",
    "            activation = sigmoid(z)\n",
    "            activations.append(activation)\n",
    "        # backward pass\n",
    "        delta = self.cost_derivative(activations[-1], y) * \\\n",
    "            sigmoid_prime(zs[-1])\n",
    "        nabla_b[-1] = delta\n",
    "        nabla_w[-1] = np.dot(delta, activations[-2].transpose())\n",
    "        # Note that the variable l in the loop below is used a little\n",
    "        # differently to the notation in Chapter 2 of the book.  Here,\n",
    "        # l = 1 means the last layer of neurons, l = 2 is the\n",
    "        # second-last layer, and so on.  It's a renumbering of the\n",
    "        # scheme in the book, used here to take advantage of the fact\n",
    "        # that Python can use negative indices in lists.\n",
    "        for l in range(2, self.num_layers):\n",
    "            z = zs[-l]\n",
    "            sp = sigmoid_prime(z)\n",
    "            delta = np.dot(self.weights[-l+1].transpose(), delta) * sp\n",
    "            nabla_b[-l] = delta\n",
    "            nabla_w[-l] = np.dot(delta, activations[-l-1].transpose())\n",
    "        return (nabla_b, nabla_w)\n",
    "    \n",
    "    def evaluate(self, test_data):\n",
    "        '''\n",
    "            returns the number of test inputs for which we got correct output\n",
    "            Here we are using argmax to take the output as the one with maximum activation (output is the index)\n",
    "        '''\n",
    "        #we have created a list of tuple (y_hat, y) where y_hat is the output and y is the actual value\n",
    "        test_results = [(np.argmax(self.feedforward(x)),y) for (x,y) in test_data]\n",
    "        return sum(int(x==y) for (x,y) in test_results)\n",
    "    \n",
    "    def cost_derivative(self, output_activations, y):\n",
    "        return output_activations-y\n",
    "def sigmoid(z):\n",
    "    return 1.0/(1.0 + np.exp(-z))\n",
    "def sigmoid_prime(z):\n",
    "    return sigmoid(z)*(1-sigmoid(z))"
   ]
  },
  {
   "cell_type": "code",
   "execution_count": 5,
   "id": "6d2ca6aa",
   "metadata": {},
   "outputs": [
    {
     "data": {
      "text/plain": [
       "\"\\nNOTE : the following changes has been made to original code of mnist_loader\\n    1. changed to pickle instead of using cPickle because of python 3\\n    2. added encofing = 'latin1' in pickle.load to support all characters apart from ascii\\n\""
      ]
     },
     "execution_count": 5,
     "metadata": {},
     "output_type": "execute_result"
    }
   ],
   "source": [
    "import mnist_loader\n",
    "training_data , validation_data, test_data = mnist_loader.load_data_wrapper()\n",
    "'''\n",
    "NOTE : the following changes has been made to original code of mnist_loader\n",
    "    1. changed to pickle instead of using cPickle because of python 3\n",
    "    2. added encofing = 'latin1' in pickle.load to support all characters apart from ascii\n",
    "'''"
   ]
  },
  {
   "cell_type": "code",
   "execution_count": null,
   "id": "c2281fbe",
   "metadata": {},
   "outputs": [],
   "source": [
    "net2 = Network([784, 30, 30, 30, 10])\n",
    "#the above initiated network has 30 neurons in the hidden layer and as per given data\n",
    "#the input has 784 inputs pixels and 10  output neurons corresponding to each digit is there\n",
    "net2.SGD(training_data, 500, 10,0.05, test_data=test_data)"
   ]
  },
  {
   "cell_type": "code",
   "execution_count": 17,
   "id": "6ced2dc5",
   "metadata": {},
   "outputs": [
    {
     "name": "stdout",
     "output_type": "stream",
     "text": [
      "epoch 0 : 9172 / 10000\n",
      "epoch 1 : 9306 / 10000\n",
      "epoch 2 : 9284 / 10000\n",
      "epoch 3 : 9401 / 10000\n",
      "epoch 4 : 9430 / 10000\n",
      "epoch 5 : 9453 / 10000\n",
      "epoch 6 : 9482 / 10000\n",
      "epoch 7 : 9537 / 10000\n",
      "epoch 8 : 9516 / 10000\n",
      "epoch 9 : 9536 / 10000\n",
      "epoch 10 : 9541 / 10000\n",
      "epoch 11 : 9510 / 10000\n",
      "epoch 12 : 9541 / 10000\n",
      "epoch 13 : 9481 / 10000\n",
      "epoch 14 : 9560 / 10000\n",
      "epoch 15 : 9573 / 10000\n",
      "epoch 16 : 9546 / 10000\n",
      "epoch 17 : 9555 / 10000\n",
      "epoch 18 : 9586 / 10000\n",
      "epoch 19 : 9590 / 10000\n"
     ]
    }
   ],
   "source": [
    "net = Network([784, 50, 50, 10])\n",
    "#the above initiated network has 30 neurons in the hidden layer and as per given data\n",
    "#the input has 784 inputs pixels and 10  output neurons corresponding to each digit is there\n",
    "net.SGD(training_data, 20, 10, 5.0, test_data=test_data)"
   ]
  },
  {
   "cell_type": "code",
   "execution_count": null,
   "id": "717e0d52",
   "metadata": {},
   "outputs": [
    {
     "name": "stdout",
     "output_type": "stream",
     "text": [
      "epoch 0 : 6139 / 10000\n",
      "epoch 1 : 7343 / 10000\n"
     ]
    }
   ],
   "source": [
    "net = Network([784,100, 10])\n",
    "#the above initiated network has 30 neurons in the hidden layer and as per given data\n",
    "#the input has 784 inputs pixels and 10  output neurons corresponding to each digit is there\n",
    "net.SGD(training_data, 30, 10, 2.0, test_data=test_data)"
   ]
  },
  {
   "cell_type": "code",
   "execution_count": null,
   "id": "8f298357",
   "metadata": {},
   "outputs": [],
   "source": []
  }
 ],
 "metadata": {
  "kernelspec": {
   "display_name": "Python 3 (ipykernel)",
   "language": "python",
   "name": "python3"
  },
  "language_info": {
   "codemirror_mode": {
    "name": "ipython",
    "version": 3
   },
   "file_extension": ".py",
   "mimetype": "text/x-python",
   "name": "python",
   "nbconvert_exporter": "python",
   "pygments_lexer": "ipython3",
   "version": "3.11.5"
  }
 },
 "nbformat": 4,
 "nbformat_minor": 5
}
