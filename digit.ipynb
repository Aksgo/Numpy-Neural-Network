{
 "cells": [
  {
   "cell_type": "code",
   "execution_count": 1,
   "id": "130262e6",
   "metadata": {},
   "outputs": [],
   "source": [
    "import numpy as np\n",
    "import math"
   ]
  },
  {
   "cell_type": "code",
   "execution_count": 6,
   "id": "b8758602",
   "metadata": {},
   "outputs": [],
   "source": [
    "class Network:\n",
    "    #initiating our network\n",
    "    def __init__(self, sizes):\n",
    "        self.num_layers = len(sizes)\n",
    "        self.sizes = sizes\n",
    "        self.biases = [ np.random.randn(y,1) for y in sizes[1:] ]\n",
    "        self.weights = [ np.random.randn(y,x) for y,x in zip(sizes[1:],sizes[:-1])]\n",
    "        \n",
    "    def forward(self,a):\n",
    "        #return w.x + b that is apply the weights and biases\n",
    "        for w,b in zip(weights, biases):\n",
    "            a = sigmoid(np.dot(w,a) + b)\n",
    "\n",
    "def sigmoid(z):\n",
    "    return 1.0/(1.0 + np.exp(-z))"
   ]
  },
  {
   "cell_type": "code",
   "execution_count": null,
   "id": "6d2ca6aa",
   "metadata": {},
   "outputs": [],
   "source": []
  }
 ],
 "metadata": {
  "kernelspec": {
   "display_name": "Python 3 (ipykernel)",
   "language": "python",
   "name": "python3"
  },
  "language_info": {
   "codemirror_mode": {
    "name": "ipython",
    "version": 3
   },
   "file_extension": ".py",
   "mimetype": "text/x-python",
   "name": "python",
   "nbconvert_exporter": "python",
   "pygments_lexer": "ipython3",
   "version": "3.11.5"
  }
 },
 "nbformat": 4,
 "nbformat_minor": 5
}
