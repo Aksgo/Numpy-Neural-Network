{
 "cells": [
  {
   "cell_type": "code",
   "execution_count": 4,
   "id": "73083e8f",
   "metadata": {},
   "outputs": [],
   "source": [
    "import numpy as np\n",
    "import math"
   ]
  },
  {
   "cell_type": "code",
   "execution_count": 5,
   "id": "0cd2b79b",
   "metadata": {},
   "outputs": [
    {
     "name": "stdout",
     "output_type": "stream",
     "text": [
      "WOOF\n"
     ]
    }
   ],
   "source": [
    "class Animal:\n",
    "    def __init__(self, name):\n",
    "        self.name = name\n",
    "        self.is_alive = True\n",
    "    def eat(self):\n",
    "        print(f\"{self.name} is eating !\")\n",
    "    def sleep(self):\n",
    "        print(f\"{self.name} is sleeping :( \")\n",
    "class Dog(Animal):\n",
    "    def speak(self):\n",
    "        print(\"WOOF\")\n",
    "class Cat(Animal):\n",
    "    pass\n",
    "dog = Dog(\"scooby\")\n",
    "cat = Cat(\"Tom\")\n",
    "dog.speak()"
   ]
  },
  {
   "cell_type": "code",
   "execution_count": 6,
   "id": "313d985d",
   "metadata": {},
   "outputs": [
    {
     "name": "stdout",
     "output_type": "stream",
     "text": [
      "Bunny is fleeing\n",
      "Nemo is hunting\n",
      "Nemo is eating\n"
     ]
    }
   ],
   "source": [
    "#multiple inheritence and multilevel inheritence\n",
    "class Animal:\n",
    "    def __init__(self, name):\n",
    "        self.name = name\n",
    "    def eat(self):\n",
    "        print(f\"{self.name} is eating\")\n",
    "class Prey(Animal):\n",
    "    def flee(self):\n",
    "        print(f\"{self.name} is fleeing\")\n",
    "class Predator(Animal):\n",
    "    def hunt(self):\n",
    "        print(f\"{self.name} is hunting\")\n",
    "class Rabbit(Prey):\n",
    "    pass\n",
    "class hawk(Predator):\n",
    "    pass\n",
    "class Fish(Prey, Predator):\n",
    "    pass\n",
    "\n",
    "#python implicitly uses the parent constructor\n",
    "#multiple inhertence : C(A,B)➡️A\n",
    "#                       ⬇️    \n",
    "#                        B\n",
    "#multilevel inheritance : C(B) ➡️ B(A) ➡️ A\n",
    "rabbit = Rabbit(\"Bunny\")\n",
    "rabbit.flee()\n",
    "fish = Fish(\"Nemo\")\n",
    "fish.hunt()\n",
    "fish.eat()"
   ]
  },
  {
   "cell_type": "code",
   "execution_count": 7,
   "id": "bfed00d9",
   "metadata": {},
   "outputs": [
    {
     "name": "stdout",
     "output_type": "stream",
     "text": [
      "Bike is running\n",
      "Bike is stopped\n"
     ]
    }
   ],
   "source": [
    "#Abstract class\n",
    "#1. cannot create an object for it\n",
    "#2 Require children to use abstract methods\n",
    "from abc import ABC, abstractmethod\n",
    "class Vehicle(ABC):\n",
    "    \n",
    "    @abstractmethod\n",
    "    def go(self):\n",
    "        pass\n",
    "    \n",
    "    @abstractmethod\n",
    "    def stop(self):\n",
    "        pass\n",
    "\n",
    "#a class which inherits the abstract class must implement the abstract method\n",
    "class Motor(Vehicle):\n",
    "    def go(self):\n",
    "        print(\"Bike is running\")\n",
    "    def stop(self):\n",
    "        print(\"Bike is stopped\")\n",
    "motor = Motor() \n",
    "motor.go()\n",
    "motor.stop()"
   ]
  },
  {
   "cell_type": "code",
   "execution_count": 8,
   "id": "e3c36a2a",
   "metadata": {},
   "outputs": [
    {
     "name": "stdout",
     "output_type": "stream",
     "text": [
      "parent\n"
     ]
    }
   ],
   "source": [
    "#super() method in inheritance\n",
    "#it can be used to access the parent class attributes and methods in the child class\n",
    "class Shape():\n",
    "    type = \"parent\"\n",
    "    def __init__(self, color, fill):\n",
    "        self.color = color\n",
    "        self.fill =fill\n",
    "class Circle(Shape):\n",
    "    def __init__(self, color, fill, radius):\n",
    "        super().__init__(color, fill)\n",
    "        self.radius = radius\n",
    "    def describe(self):\n",
    "        print(super().type)\n",
    "\n",
    "circle = Circle(\"Red\", False, 4)\n",
    "circle.describe()"
   ]
  },
  {
   "cell_type": "code",
   "execution_count": 9,
   "id": "29a5f71e",
   "metadata": {},
   "outputs": [
    {
     "name": "stdout",
     "output_type": "stream",
     "text": [
      "Yes dog is an animal\n"
     ]
    }
   ],
   "source": [
    "#polymorphism\n",
    "#overriding the parent class\n",
    "class Animal:\n",
    "    alive = True\n",
    "    def isAnimal(self):\n",
    "        print(\"Yes an animal\")\n",
    "\n",
    "class Dog(Animal):\n",
    "    def isAnimal(self):\n",
    "        print(\"Yes dog is an animal\")\n",
    "dog = Dog()\n",
    "dog.isAnimal()"
   ]
  },
  {
   "cell_type": "code",
   "execution_count": 16,
   "id": "9ac9dfe8",
   "metadata": {},
   "outputs": [
    {
     "name": "stdout",
     "output_type": "stream",
     "text": [
      "Neywork PL\n",
      "['b1 : jk row', 'b2 : ruskin bond']\n"
     ]
    }
   ],
   "source": [
    "#aggregation\n",
    "#one object contains references to other object which are independent of each other\n",
    "class Library:\n",
    "    def __init__(self, name):\n",
    "        self.name = name\n",
    "        self.books=[]\n",
    "    def addBook(self, book):\n",
    "        self.books.append(book)\n",
    "    def listBook(self):\n",
    "        return [f\"{book.title} : {book.author}\" for book in self.books]\n",
    "class Book:\n",
    "    def __init__(self, title, author):\n",
    "        self.title = title\n",
    "        self.author = author\n",
    "lib = Library(\"Neywork PL\")\n",
    "book1 = Book(\"b1\", \"jk row\")\n",
    "book2 = Book(\"b2\", \"ruskin bond\")\n",
    "lib.addBook(book1)\n",
    "lib.addBook(book2)\n",
    "print(lib.name)\n",
    "print(lib.listBook())"
   ]
  },
  {
   "cell_type": "code",
   "execution_count": 21,
   "id": "66e6d856",
   "metadata": {},
   "outputs": [
    {
     "name": "stdout",
     "output_type": "stream",
     "text": [
      "788\n"
     ]
    }
   ],
   "source": [
    "#composition - dependent objects\n",
    "class Engine:\n",
    "    def __init__(self, horse_power):\n",
    "        self.horse_power = horse_power\n",
    "class Wheel:\n",
    "    def __init__(self, size):\n",
    "        self.size = size\n",
    "class Car:\n",
    "    def __init__(self, make, model, horse_power, wheel_size):\n",
    "        self.make = make\n",
    "        self.model = model\n",
    "        #these objects can be accessed wihtout main object\n",
    "        self.engine = Engine(horse_power)\n",
    "        self.wheel = Wheel(wheel_size)\n",
    "        \n",
    "car1 = Car(\"Ford\", \"mustang\", \"788\", \"40\")\n",
    "print(car1.engine.horse_power)"
   ]
  },
  {
   "cell_type": "code",
   "execution_count": null,
   "id": "aebf1064",
   "metadata": {},
   "outputs": [],
   "source": [
    "#types of methods\n",
    "#instance method - pass self as the paramaeter to access instance objects\n",
    "#static methods - for general utility purpose which do not require any self parameter\n",
    "#class methods - when we require access to class then we pass 'cls' as the parameter\n",
    "#@staticmethod is specified before staitc method\n",
    "#@classmethod for class methods\n"
   ]
  },
  {
   "cell_type": "markdown",
   "id": "10a89b89",
   "metadata": {},
   "source": [
    "@property decorator is a built-in decorator in Python which is helpful in defining the properties effortlessly without manually calling the inbuilt function property(). Which is used to return the property attributes of a class from the stated getter, setterand deleter as parameter\n",
    "\n",
    "##### 1. @property is used to specify the getter method\n",
    "##### 2. @\\<attri name>.setter is used for the setter method\n",
    "##### 3. @\\<attri name>.deleter is used for deleting which is invoked outside the class by del keyword followed by attribute name"
   ]
  },
  {
   "cell_type": "code",
   "execution_count": null,
   "id": "f03acb7a",
   "metadata": {},
   "outputs": [],
   "source": []
  }
 ],
 "metadata": {
  "kernelspec": {
   "display_name": "Python 3 (ipykernel)",
   "language": "python",
   "name": "python3"
  },
  "language_info": {
   "codemirror_mode": {
    "name": "ipython",
    "version": 3
   },
   "file_extension": ".py",
   "mimetype": "text/x-python",
   "name": "python",
   "nbconvert_exporter": "python",
   "pygments_lexer": "ipython3",
   "version": "3.11.5"
  }
 },
 "nbformat": 4,
 "nbformat_minor": 5
}
